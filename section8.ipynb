{
 "cells": [
  {
   "cell_type": "markdown",
   "metadata": {},
   "source": [
    "## Theano - Deep Learning Library"
   ]
  },
  {
   "cell_type": "markdown",
   "metadata": {},
   "source": [
    "Theano is a python library that makes writing deep\n",
    "learning models easy, and gives the option of training them on a GPU.\n",
    "\n",
    "#### Installing Theano\n",
    "http://deeplearning.net/software/theano/install.html\n",
    "\n",
    "- #### Requirements\n",
    "    - Developed mainly on 64-bit Linux machine\n",
    "    - Python 3.3 and above supported\n",
    "    - g++ >= 4.2 \n",
    "    - NumPy >= 1.7.1\n",
    "    - SciPy >= 0.11\n",
    "    - BLAS \n",
    "\n",
    "Some Optionals \n",
    "    - nose >= 1.3.0 - to run Theano’s test-suite\n",
    "    - pydot - To be able to make picture of Theano computation graph.\n",
    "    - NVDIA CUDA drivers and SDK - for GPU code generation\n",
    "    - libgpuarrsay\n",
    "\n",
    "#### Installation for Mac OS using Anaconda\n",
    "(may need to activate python 3.4 version)\n",
    "\n",
    "On the commandline enter:\n",
    "    - pip install Theano\n",
    "    - Theano officially supports only clang on OS X. \n",
    "    - This can be installed by getting XCode from the App Store and running it once to install the command-line tools.\n",
    "\n",
    "#### For other operating systems check the [link](http://deeplearning.net/software/theano/install.html)"
   ]
  },
  {
   "cell_type": "markdown",
   "metadata": {},
   "source": [
    "Goal:\n",
    "- Theano Basics \n",
    "- Dissect into available code for logistic regression with Theano\n",
    "    - [See the link](http://deeplearning.net/tutorial/code/logistic_sgd.py) "
   ]
  },
  {
   "cell_type": "code",
   "execution_count": 94,
   "metadata": {
    "collapsed": false
   },
   "outputs": [],
   "source": [
    "import numpy as np\n",
    "from theano import function, shared, config, pp, Param\n",
    "import theano.tensor as T\n",
    "import matplotlib.pyplot as plt\n",
    "%matplotlib inline\n",
    "import pandas as pd\n",
    "import pickle\n",
    "import gzip\n",
    "import os\n",
    "import sys\n",
    "import timeit"
   ]
  },
  {
   "cell_type": "markdown",
   "metadata": {},
   "source": [
    "### Symbolic theano variables\n",
    "- In theano, you express everything symbolically and compile the expression afterwards to get functions"
   ]
  },
  {
   "cell_type": "markdown",
   "metadata": {},
   "source": [
    "### Creating scalar symbolic variables:\n",
    "T.dscalar \n",
    "- double scalar (0-d) symbolic variable (scalar)\n",
    "- d:double\n",
    "- Constructors for other data types can be found \n",
    "    - [see link](http://deeplearning.net/software/theano/library/tensor/basic.html)\n",
    "- e.g., iscalar, lscalar, fscalar,"
   ]
  },
  {
   "cell_type": "code",
   "execution_count": null,
   "metadata": {
    "collapsed": false
   },
   "outputs": [],
   "source": [
    "#theano symbolic variable initialization\n",
    "x = T.dscalar('x')  \n",
    "y = T.dscalar('y')\n",
    "\n",
    "a = T.scalar('x', dtype='float64')\n",
    "c, d = T.fscalars(2)\n",
    "e, f = T.iscalars('e', 'f')\n",
    "\n",
    "print(x.type, a.type, c.type, e.type)"
   ]
  },
  {
   "cell_type": "markdown",
   "metadata": {},
   "source": [
    "### Creating vector and matrix symbolic variables"
   ]
  },
  {
   "cell_type": "code",
   "execution_count": null,
   "metadata": {
    "collapsed": false
   },
   "outputs": [],
   "source": [
    "#theano symbolic vector and matrix initialization\n",
    "x = T.dvector('x')\n",
    "y = T.dmatrix('y')\n",
    "\n",
    "a,b = T.imatrices(2)\n",
    "print(x.type, y.type, a.type)\n",
    "print(x.ndim)\n",
    "print(a.ndim)"
   ]
  },
  {
   "cell_type": "markdown",
   "metadata": {},
   "source": [
    "### theano.function()\n",
    "- interface for compiling graphs into callable objects\n",
    "- function([inputs], outputs)"
   ]
  },
  {
   "cell_type": "code",
   "execution_count": null,
   "metadata": {
    "collapsed": false
   },
   "outputs": [],
   "source": [
    "#theano symbolic variable initialization\n",
    "x = T.dscalar('x')\n",
    "y = T.dscalar('y')\n",
    "\n",
    "# model\n",
    "z = x**2 + y**2 + 2*x*y\n",
    "\n",
    "# compiles to a python function\n",
    "f = function(inputs=[x, y], outputs=z) \n",
    "\n",
    "# applying\n",
    "out = f(3.0,4.0)\n",
    "print(out) \n",
    "print(3**2 + 4**2 + 2*3*4)\n",
    "out2 = z.eval({x:3.0, y:4.0})\n",
    "print(out2)"
   ]
  },
  {
   "cell_type": "markdown",
   "metadata": {
    "collapsed": true
   },
   "source": [
    "### returning multiple outputs"
   ]
  },
  {
   "cell_type": "code",
   "execution_count": null,
   "metadata": {
    "collapsed": false
   },
   "outputs": [],
   "source": [
    "x, y = T.dmatrices('x', 'y')\n",
    "diff = x - y\n",
    "abs_diff = abs(diff)\n",
    "diff_squared = diff**2\n",
    "f = function([x, y], [diff, abs_diff, diff_squared])\n",
    "\n",
    "a = [[1,2], [3,4]]\n",
    "b = [[4,6], [8,10]]\n",
    "\n",
    "out1, out2, out3 = f(a,b)\n",
    "print(out1, '\\n')\n",
    "print(out2, '\\n')\n",
    "print(out3, '\\n')"
   ]
  },
  {
   "cell_type": "code",
   "execution_count": null,
   "metadata": {
    "collapsed": false
   },
   "outputs": [],
   "source": [
    "x = T.dvector()\n",
    "y = T.dvector()\n",
    "z = T.dot(x,y)\n",
    "\n",
    "f = function([x,y], z)\n",
    "\n",
    "out = f([1,2], [2,3])\n",
    "print(out, 1*2 + 2*3)"
   ]
  },
  {
   "cell_type": "markdown",
   "metadata": {},
   "source": [
    "#### Activation function\n",
    "- Logistic function\n",
    "- # $\\frac{1}{1 + e^{-x}}$"
   ]
  },
  {
   "cell_type": "code",
   "execution_count": 95,
   "metadata": {
    "collapsed": false
   },
   "outputs": [
    {
     "name": "stdout",
     "output_type": "stream",
     "text": [
      "0.5\n"
     ]
    }
   ],
   "source": [
    "x = T.dscalar('x')\n",
    "\n",
    "def model(x):\n",
    "    return 1/(1 + T.exp(-x))\n",
    "\n",
    "sig = model(x)\n",
    "\n",
    "f = function([x],sig)\n",
    "out = f(0)\n",
    "print(out)"
   ]
  },
  {
   "cell_type": "code",
   "execution_count": 96,
   "metadata": {
    "collapsed": false
   },
   "outputs": [
    {
     "data": {
      "image/png": "[encoded data removed]",
      "text/plain": [
       "<matplotlib.figure.Figure at 0x10bd06fd0>"
      ]
     },
     "metadata": {},
     "output_type": "display_data"
    }
   ],
   "source": [
    "x = T.dvector('x') \n",
    "sig = 1/(1 + T.exp(-x))\n",
    "\n",
    "f = function([x],sig)\n",
    "\n",
    "x1 = np.linspace(-5, 5, 20)\n",
    "y = f(x1)\n",
    "plt.plot(x1, y)\n",
    "plt.show()"
   ]
  },
  {
   "cell_type": "markdown",
   "metadata": {},
   "source": [
    "#### Activation function\n",
    "- tanh function"
   ]
  },
  {
   "cell_type": "code",
   "execution_count": 97,
   "metadata": {
    "collapsed": false
   },
   "outputs": [
    {
     "data": {
      "image/png": "[encoded data removed]",
      "text/plain": [
       "<matplotlib.figure.Figure at 0x10bde7ef0>"
      ]
     },
     "metadata": {},
     "output_type": "display_data"
    }
   ],
   "source": [
    "x = T.dvector('x')\n",
    "tanh = T.tanh(x)\n",
    "\n",
    "f = function([x], tanh)\n",
    "\n",
    "# Plot \n",
    "x1 = np.linspace(-10,10, 50)\n",
    "plt.plot(x1, f(x1))\n",
    "plt.axis([-10, 10, -1.5, 1.5])\n",
    "plt.show()"
   ]
  },
  {
   "cell_type": "markdown",
   "metadata": {},
   "source": [
    "### Setting a default"
   ]
  },
  {
   "cell_type": "code",
   "execution_count": 98,
   "metadata": {
    "collapsed": false
   },
   "outputs": [
    {
     "name": "stdout",
     "output_type": "stream",
     "text": [
      "0.9999999958776927\n",
      "1.0\n"
     ]
    }
   ],
   "source": [
    "x, y = T.dscalars('x', 'y')\n",
    "tanh = T.tanh(x*y)\n",
    "f = function([x, Param(y, default=1)], tanh)\n",
    "print(f(10))\n",
    "print(f(10, 2))"
   ]
  },
  {
   "cell_type": "markdown",
   "metadata": {},
   "source": [
    "####  Neural Network \n",
    "In Multilayer Perceptron Learning (MPL) algorithms\n",
    "- ## $z = w*x + b$\n",
    "- w: Weight matrix\n",
    "- x: input vector\n",
    "- b: bias vector"
   ]
  },
  {
   "cell_type": "markdown",
   "metadata": {},
   "source": [
    "<img src=\"Perceptron_bkp_1.png\">\n",
    "source: http://www.saedsayad.com/artificial_neural_network_bkp.htm"
   ]
  },
  {
   "cell_type": "code",
   "execution_count": 107,
   "metadata": {
    "collapsed": false
   },
   "outputs": [
    {
     "name": "stdout",
     "output_type": "stream",
     "text": [
      "[[-1  0  1]\n",
      " [ 0  1  0]\n",
      " [ 1  1  1]]\n",
      "y [  2.47143516   1.80902431  10.43270697]\n",
      "out [ 0.9221149   0.85924391  0.99997055]\n"
     ]
    }
   ],
   "source": [
    "np.random.seed(1234)\n",
    "w = T.dmatrix('w') \n",
    "x = T.dvector('x')\n",
    "b = T.vector('b')\n",
    "\n",
    "y = T.dot(w,x) + b\n",
    "z = T.vector('z')\n",
    "\n",
    "fn = function([w, x, b], y)\n",
    "sig = 1/(1 + T.exp(-z)) \n",
    "f = function([z], sig)\n",
    "\n",
    "w1 = np.array([[-1, 0, 1], [0, 1, 0], [1, 1, 1]])\n",
    "x1 = np.array([2, 3,4])\n",
    "b1 = np.random.randn(3)\n",
    "\n",
    "print(w1)\n",
    "y1 = fn(w1,x1,b1)\n",
    "print('y', y1)\n",
    "out = f(y1)\n",
    "print('out', out)"
   ]
  },
  {
   "cell_type": "code",
   "execution_count": 109,
   "metadata": {
    "collapsed": false
   },
   "outputs": [
    {
     "data": {
      "text/plain": [
       "array([ 0.9221149 ,  0.85924391,  0.99997055])"
      ]
     },
     "execution_count": 109,
     "metadata": {},
     "output_type": "execute_result"
    }
   ],
   "source": [
    "np.random.seed(1234)\n",
    "w = T.dmatrix('w') \n",
    "x = T.dvector('x')\n",
    "b = T.vector('b')\n",
    "\n",
    "y = T.dot(w,x) + b\n",
    "\n",
    "sig2 = 1/(1 + T.exp(-y))\n",
    "f = function([w,x,b], sig2)\n",
    "\n",
    "w1 = np.array([[-1, 0, 1], [0, 1, 0], [1, 1, 1]])\n",
    "x1 = np.array([2, 3,4])\n",
    "b1 = np.random.randn(3)\n",
    "\n",
    "f(w1,x1, b1)\n"
   ]
  },
  {
   "cell_type": "markdown",
   "metadata": {},
   "source": [
    "### Shared variables\n",
    "- hybrid symbolic/non-symbolic variables whose values may be shared between multiple functions \n",
    "    - function with an internal state\n",
    "    - updates\n",
    "    - get_values()\n",
    "    - set_values()"
   ]
  },
  {
   "cell_type": "code",
   "execution_count": 110,
   "metadata": {
    "collapsed": false
   },
   "outputs": [
    {
     "name": "stdout",
     "output_type": "stream",
     "text": [
      "0 0 2\n",
      "1 2 4\n",
      "2 4 6\n",
      "3 6 8\n",
      "4 8 10\n",
      "10\n",
      "0\n"
     ]
    }
   ],
   "source": [
    "# shared variable - model parameter initialization\n",
    "state = shared(0)  \n",
    "inc = T.iscalar('inc')\n",
    "updates = [(state, state + inc)]\n",
    "\n",
    "f = function([inc], state, updates=updates) #outputs state & updates it\n",
    "                                            #increment, decrement\n",
    "for i in range(5):\n",
    "    print(i, f(2), state.get_value())\n",
    "\n",
    "print(state.get_value())\n",
    "state.set_value(0)\n",
    "print(state.get_value())"
   ]
  },
  {
   "cell_type": "markdown",
   "metadata": {},
   "source": [
    "### Theano random numbers \n",
    "- using pseudo random numbers is not straight forrward as in NumPy"
   ]
  },
  {
   "cell_type": "code",
   "execution_count": 111,
   "metadata": {
    "collapsed": false
   },
   "outputs": [
    {
     "name": "stdout",
     "output_type": "stream",
     "text": [
      "[[ 0.75718064  0.1130526   0.00607781]\n",
      " [ 0.8721389   0.31027075  0.24150866]\n",
      " [ 0.56740797  0.73226671  0.97511917]]\n",
      "\n",
      "[[ 1.14113913  3.11074737  0.46746439]\n",
      " [ 2.72601629 -0.32071106  1.460445  ]\n",
      " [ 1.00163875 -2.39430266  0.47174842]]\n",
      "\n",
      "[[ 0.  0.  0.]\n",
      " [ 0.  0.  0.]\n",
      " [ 0.  0.  0.]]\n"
     ]
    }
   ],
   "source": [
    "# work only on CPU \n",
    "from theano.tensor.shared_randomstreams import RandomStreams\n",
    "rst = RandomStreams(seed=1234) # allocates NumPy random stream object - are shared variables\n",
    "urnd = rst.uniform((3,3))  # 3 x 3 uniform random numbers\n",
    "nrnd = rst.normal((3, 3), avg = 0.5, std = 1.5)\n",
    "\n",
    "f = function([], urnd)\n",
    "g = function([], nrnd, no_default_updates=True) #Does not update nrnd\n",
    "\n",
    "ff = function([], urnd + urnd - 2*urnd)\n",
    "print(f())\n",
    "print('')\n",
    "print(g())\n",
    "print('')\n",
    "print(ff())"
   ]
  },
  {
   "cell_type": "markdown",
   "metadata": {
    "collapsed": true
   },
   "source": [
    "### Gradient Descent Using Theano"
   ]
  },
  {
   "cell_type": "code",
   "execution_count": 114,
   "metadata": {
    "collapsed": false
   },
   "outputs": [
    {
     "name": "stdout",
     "output_type": "stream",
     "text": [
      "0.7762870182329094 \n",
      " 0.255447028107 -3.09877804969 0.897036569027 \n",
      " -0.045486650458838374 0.9985165413361967 -0.0370690021341048\n"
     ]
    }
   ],
   "source": [
    "x, y, z = T.dscalars('x', 'y', 'z')\n",
    "fnc = ((z-3*x)**4)*T.exp(x-y) + ((3*x + y + 2*z + 7)**2)*T.exp(y-z)\n",
    "dx, dy, dz = T.grad(cost=fnc,wrt=[x,y,z])\n",
    "\n",
    "\n",
    "f = function([x,y,z], fnc)\n",
    "g = function([x, y, z], [dx, dy, dz])\n",
    "\n",
    "\n",
    "x = -1\n",
    "y = 0\n",
    "z = 1\n",
    "learning_rate = 0.001\n",
    "fnc0 = f(x,y,z)\n",
    "tol = 0.001\n",
    "while(1):\n",
    "    gx, gy, gz = g(x,y,z)\n",
    "    x = x - learning_rate*gx\n",
    "    y = y - learning_rate*gy\n",
    "    z = z - learning_rate*gz\n",
    "    if fnc0 - f(x,y,z) < tol:\n",
    "        break\n",
    "    fnc0 = f(x,y,z)\n",
    "print(f(x,y,z),'\\n', x,y,z, '\\n', gx, gy, gz) "
   ]
  },
  {
   "cell_type": "code",
   "execution_count": 115,
   "metadata": {
    "collapsed": false
   },
   "outputs": [
    {
     "name": "stdout",
     "output_type": "stream",
     "text": [
      "[[ 0.19661193  0.10499359  0.04517666]\n",
      " [ 0.19661193  0.25        0.10499359]\n",
      " [ 0.10499359  0.19661193  0.25      ]]\n"
     ]
    }
   ],
   "source": [
    "w = T.dmatrix('w')\n",
    "p = T.sum(1 / (1 + T.exp(-w)))\n",
    "gw = T.grad(p, w)\n",
    "f = function([w], gw)\n",
    "\n",
    "a = np.array([[1,2,3], [1,0,2], [2, 1, 0]])\n",
    "b = np.array([[2],[1], [0]])\n",
    "print(f(a))"
   ]
  },
  {
   "cell_type": "markdown",
   "metadata": {},
   "source": [
    "### Linear regression using theano"
   ]
  },
  {
   "cell_type": "code",
   "execution_count": 44,
   "metadata": {
    "collapsed": false
   },
   "outputs": [
    {
     "data": {
      "image/png": "[encoded data removed]",
      "text/plain": [
       "<matplotlib.figure.Figure at 0x10bb9dc88>"
      ]
     },
     "metadata": {},
     "output_type": "display_data"
    },
    {
     "data": {
      "text/html": [
       "<div>\n",
       "<table border=\"1\" class=\"dataframe\">\n",
       "  <thead>\n",
       "    <tr style=\"text-align: right;\">\n",
       "      <th></th>\n",
       "      <th>x</th>\n",
       "      <th>y</th>\n",
       "    </tr>\n",
       "  </thead>\n",
       "  <tbody>\n",
       "    <tr>\n",
       "      <th>0</th>\n",
       "      <td>3.600</td>\n",
       "      <td>79</td>\n",
       "    </tr>\n",
       "    <tr>\n",
       "      <th>1</th>\n",
       "      <td>1.800</td>\n",
       "      <td>54</td>\n",
       "    </tr>\n",
       "    <tr>\n",
       "      <th>2</th>\n",
       "      <td>3.333</td>\n",
       "      <td>74</td>\n",
       "    </tr>\n",
       "    <tr>\n",
       "      <th>3</th>\n",
       "      <td>2.283</td>\n",
       "      <td>62</td>\n",
       "    </tr>\n",
       "    <tr>\n",
       "      <th>4</th>\n",
       "      <td>4.533</td>\n",
       "      <td>85</td>\n",
       "    </tr>\n",
       "  </tbody>\n",
       "</table>\n",
       "</div>"
      ],
      "text/plain": [
       "       x   y\n",
       "0  3.600  79\n",
       "1  1.800  54\n",
       "2  3.333  74\n",
       "3  2.283  62\n",
       "4  4.533  85"
      ]
     },
     "execution_count": 44,
     "metadata": {},
     "output_type": "execute_result"
    }
   ],
   "source": [
    "import pandas as pd\n",
    "old_faithful = pd.read_fwf('../old_faithful_data.txt', usecols=[\"eruptions\", \"waiting\"])\n",
    "old_faithful.describe()\n",
    "plt.scatter(old_faithful.eruptions, old_faithful.waiting)\n",
    "plt.xlabel('eruption time', fontsize=16)\n",
    "plt.ylabel('waiting time', fontsize=16)\n",
    "plt.show()\n",
    "old_faithful.head()\n",
    "df = old_faithful\n",
    "df.columns = ['x', 'y']\n",
    "df.head()"
   ]
  },
  {
   "cell_type": "code",
   "execution_count": 117,
   "metadata": {
    "collapsed": false
   },
   "outputs": [
    {
     "data": {
      "image/png": "[encoded data removed]",
      "text/plain": [
       "<matplotlib.figure.Figure at 0x10bbeab00>"
      ]
     },
     "metadata": {},
     "output_type": "display_data"
    }
   ],
   "source": [
    "from IPython import display\n",
    "import time\n",
    "\n",
    "dataX = np.array(df['x'])\n",
    "dataY = np.array(df['y'])\n",
    "\n",
    "fig = plt.figure()\n",
    "ax = fig.add_subplot(111)\n",
    "ax.axis([1,5.5,40, 100])\n",
    "plt.ion()\n",
    "plt.scatter(trX, trY)\n",
    "\n",
    "\n",
    "X = T.vector()\n",
    "Y = T.vector()\n",
    "\n",
    "def model(X, w, b):\n",
    "    return X*w + b\n",
    "\n",
    "w = shared(np.asarray(np.random.randn(), dtype=config.floatX))\n",
    "b = shared(np.asarray(np.random.randn(), dtype=config.floatX))\n",
    "y = model(X,w, b)\n",
    "\n",
    "learning_rate = 0.01\n",
    "cost = T.mean(T.sqr(y - Y))\n",
    "gw, gb = T.grad(cost=cost, wrt=w), T.grad(cost=cost, wrt=b)\n",
    "updates = [(w, w - learning_rate * gw), (b, b - learning_rate * gb)]\n",
    "\n",
    "train = function(inputs=[X,Y], outputs=[cost], updates=updates) \n",
    "predict = function([X],y)\n",
    "\n",
    "for i in range(10):\n",
    "    out = train(dataX, dataY)\n",
    "    if ax.lines: \n",
    "        del ax.lines[0]\n",
    "    \n",
    "    plt.plot(dataX, predict(dataX), \"-\", linewidth=2, color='red')\n",
    "    #plt.draw()\n",
    "    \n",
    "    display.display(plt.gcf())\n",
    "    display.clear_output(wait=True)\n",
    "    plt.pause(0.5/(float(i)*5 +1)) "
   ]
  },
  {
   "cell_type": "markdown",
   "metadata": {},
   "source": [
    "### Logistic  regression classifier\n",
    "- Logistic neurons compute their output values from their input.\n",
    "    - $z = Wx + b$\n",
    "        - W: weight matrix (Weights of the connection)\n",
    "        - x: input vector \n",
    "        - b: bias vector\n",
    " \n",
    "- The neuron computes the weighted sum of its inputs, the logit, z. \n",
    "- Feeds the logit into the input function to compute y, its final output\n",
    "    - $y = \\frac{1}{1 + e^{-z}}$\n",
    "        - y: output vector\n",
    "- Logistic regression neuron calculates the probability that an input belongs to one of the target classes.\n",
    "    - x: input vector - 1D image of a digit (28 x 28 flattened to 1 x 784)\n",
    "    - target class - i = 0, 1, 2, ..., 9\n",
    "    - $P(y = i | x) = softmax_i(z) = \\frac{z_i}{\\sum_j e^z_j}$\n",
    "        - $z_j = W_jx + b_j$\n",
    "    - 10 possible outcomes\n",
    "    - select the one with the highest probability (T.argmax())\n",
    "    \n",
    "- [Adopted from](http://deeplearning.net/tutorial/code/logistic_sgd.py)"
   ]
  },
  {
   "cell_type": "code",
   "execution_count": 76,
   "metadata": {
    "collapsed": true
   },
   "outputs": [],
   "source": [
    "class LogisticRegression(object):\n",
    "\n",
    "    def __init__(self, input, inputDim, outputDim):\n",
    "    \n",
    "        self.W = shared(np.zeros((inputDim, outputDim), dtype= config.floatX),\n",
    "                        name='W',\n",
    "                        borrow=True\n",
    "                       )\n",
    "        \n",
    "        self.b = shared(np.zeros((outputDim,),dtype= config.floatX),\n",
    "                          name='b',\n",
    "                          borrow=True\n",
    "                         )\n",
    "        \n",
    "        #http://deeplearning.net/software/theano/tutorial/aliasing.html\n",
    "            \n",
    "        self.p_y_given_x = T.nnet.softmax(T.dot(input, self.W) + self.b)\n",
    "\n",
    "        self.y_pred = T.argmax(self.p_y_given_x, axis=1)\n",
    "        \n",
    "        self.params = [self.W, self.b]\n",
    "\n",
    "        self.input = input\n",
    "        \n",
    "    def negative_log_likelihood(self, y):\n",
    "        return -T.mean(T.log(self.p_y_given_x)[T.arange(y.shape[0]), y])\n",
    "        \n",
    "\n",
    "    def errors(self, y):\n",
    "        return T.mean(T.neq(self.y_pred, y))"
   ]
  },
  {
   "cell_type": "markdown",
   "metadata": {},
   "source": [
    "### Negative log-likelihood function\n",
    "Once we have symbolic expression for the model prediction, we check \n",
    "how well the model performs\n",
    "- $-\\sum_i log\\left( P\\left(y = y^{(i)} | x^{(i)}, W, b\\right)\\right)$\n",
    "    - minimize negative log likelihood function\n",
    "        - (maximze log-likelihood)"
   ]
  },
  {
   "cell_type": "markdown",
   "metadata": {},
   "source": [
    "### MNIST data set - hand written digital image\n",
    "- pickled data of MNIST dataset can be found from the link below\n",
    "    - http://deeplearning.net/data/mnist/mnist.pkl.gz\n",
    "    - http://www.iro.umontreal.ca/~lisa/deep/data/mnist/mnist.pkl.gz\n",
    "- It is divided as \n",
    "    - Training set: 60,000 examples\n",
    "        - The official training set is devided into \n",
    "        - training set: 50,000 samples\n",
    "        - validation set: 10,000 examples\n",
    "    - Testing set:  10,000 examples\n",
    "- Downloaded zipped file 'mnist.pkl.gz' was saved in the current directory"
   ]
  },
  {
   "cell_type": "code",
   "execution_count": 79,
   "metadata": {
    "collapsed": false
   },
   "outputs": [
    {
     "name": "stdout",
     "output_type": "stream",
     "text": [
      "....... LOADING DATA.....\n",
      "(50000, 784)\n",
      "[7 2 1 0 4 1 4 9 5 9 0 6 9 0 1 5 9 7 3 4 9 6 6 5 4 0 7 4 0 1 3 1 3 4 7 2 7\n",
      " 1 2 1 1 7 4 2 3 5 1 2 4 4]\n"
     ]
    }
   ],
   "source": [
    "def load_data(dataset):\n",
    "    print(\"....... LOADING DATA.....\")\n",
    "    f = gzip.open(dataset, 'rb')\n",
    "    train_set, valid_set, test_set = pickle.load(f, encoding=\"bytes\")\n",
    "    f.close()\n",
    "    print(train_set[0].shape)\n",
    "    \n",
    "    def shared_dataset(data_xy):\n",
    "        data_x, data_y = data_xy\n",
    "        shared_x = shared(np.asarray(data_x, dtype=config.floatX),\n",
    "                                 borrow=True)\n",
    "        shared_y = shared(np.asarray(data_y,dtype='int32'),\n",
    "                                 borrow=True)\n",
    "        return shared_x, shared_y\n",
    "    \n",
    "    test_set_x, test_set_y = shared_dataset(test_set)                             \n",
    "    valid_set_x, valid_set_y = shared_dataset(valid_set)\n",
    "    train_set_x, train_set_y = shared_dataset(train_set)\n",
    "\n",
    "    rval = [(train_set_x, train_set_y), (valid_set_x, valid_set_y),\n",
    "            (test_set_x, test_set_y)]\n",
    "    return rval\n",
    "\n",
    "datasets = load_data('mnist.pkl.gz')\n",
    "test_set_x_im, test_set_y_im = datasets[2]\n",
    "test_set_x_im = test_set_x_im.get_value()\n",
    "test_set_y_im = test_set_y_im.get_value()\n",
    "print(test_set_y_im[:50])"
   ]
  },
  {
   "cell_type": "code",
   "execution_count": 71,
   "metadata": {
    "collapsed": false
   },
   "outputs": [],
   "source": [
    "def view_digit_images(number_of_images, dataset):\n",
    "    m = (number_of_images - 1)//5 + 1 \n",
    "    f, ax = plt.subplots(m, 5)\n",
    "    plt.gray()\n",
    "    i = 0\n",
    "    j = 0\n",
    "    for digit in dataset[:number_of_images]: \n",
    "        if m > 1:\n",
    "            ax[i][j].imshow(digit.reshape(28,28))\n",
    "        else:\n",
    "            ax[j].imshow(digit.reshape(28,28)) \n",
    "        j = j+1\n",
    "        if(j==5):\n",
    "            j = 0\n",
    "            i = i+1\n",
    "    extra = m*5 -(i*5+j) \n",
    "    if extra > 0:\n",
    "        for axs in range(extra):\n",
    "            f.delaxes(ax[-1,-axs-1]) \n",
    "    plt.show()"
   ]
  },
  {
   "cell_type": "code",
   "execution_count": 80,
   "metadata": {
    "collapsed": false
   },
   "outputs": [
    {
     "data": {
      "image/png": "[encoded data removed]",
      "text/plain": [
       "<matplotlib.figure.Figure at 0x10a9482e8>"
      ]
     },
     "metadata": {},
     "output_type": "display_data"
    }
   ],
   "source": [
    "view_digit_images(10, test_set_x_im)"
   ]
  },
  {
   "cell_type": "markdown",
   "metadata": {},
   "source": [
    "### Learning The Optimal Parameters\n",
    "- Minimize Loss function (cost) using stochastic gradient method with mini-batches\n",
    "    - In Pure SG, gradient is estimated from one example at a time  \n",
    "- negative log likelihood taken as loss function\n",
    "    - $-\\sum_i log\\left( P\\left(y = y^{(i)} | x^{(i)}, W, b\\right)\\right)$\n",
    "        - optimization parameters $\\theta = {W, b}$"
   ]
  },
  {
   "cell_type": "code",
   "execution_count": 86,
   "metadata": {
    "collapsed": false
   },
   "outputs": [],
   "source": [
    "def sgd_optimization_mnist(learning_rate=0.13, n_epochs=1000,\n",
    "                           dataset='mnist.pkl.gz',\n",
    "                           batch_size=600):\n",
    "    \n",
    "    datasets = load_data(dataset)\n",
    "\n",
    "    train_set_x, train_set_y = datasets[0]\n",
    "    valid_set_x, valid_set_y = datasets[1]\n",
    "    test_set_x, test_set_y = datasets[2]\n",
    "    \n",
    "    # compute number of minibatches for training, validation and testing\n",
    "    n_train_batches = train_set_x.get_value(borrow=True).shape[0] // batch_size\n",
    "    n_valid_batches = valid_set_x.get_value(borrow=True).shape[0] // batch_size\n",
    "    n_test_batches = test_set_x.get_value(borrow=True).shape[0] // batch_size\n",
    "\n",
    "    \n",
    "    print('... building the model')\n",
    "    print(train_set_y.get_value())\n",
    "\n",
    "    index = T.lscalar()  \n",
    "    x = T.matrix('x')  \n",
    "    y = T.ivector('y')  \n",
    "\n",
    "    classifier = LogisticRegression(input=x, inputDim=28 * 28, outputDim=10)\n",
    "\n",
    "    cost = classifier.negative_log_likelihood(y)\n",
    "\n",
    "    test_model = function(\n",
    "        inputs=[index],\n",
    "        outputs=classifier.errors(y),\n",
    "        givens={\n",
    "            x: test_set_x[index * batch_size: (index + 1) * batch_size],\n",
    "            y: test_set_y[index * batch_size: (index + 1) * batch_size]\n",
    "        }\n",
    "    )\n",
    "\n",
    "    validate_model = function(\n",
    "        inputs=[index],\n",
    "        outputs=classifier.errors(y),\n",
    "        givens={\n",
    "            x: valid_set_x[index * batch_size: (index + 1) * batch_size],\n",
    "            y: valid_set_y[index * batch_size: (index + 1) * batch_size]\n",
    "        }\n",
    "    )\n",
    "\n",
    "    g_W = T.grad(cost=cost, wrt=classifier.W)\n",
    "    g_b = T.grad(cost=cost, wrt=classifier.b)\n",
    "\n",
    "    updates = [(classifier.W, classifier.W - learning_rate * g_W),\n",
    "               (classifier.b, classifier.b - learning_rate * g_b)]\n",
    "\n",
    "    train_model = function(\n",
    "        inputs=[index],\n",
    "        outputs=cost,\n",
    "        updates=updates,\n",
    "        givens={\n",
    "            x: train_set_x[index * batch_size: (index + 1) * batch_size],\n",
    "            y: train_set_y[index * batch_size: (index + 1) * batch_size]\n",
    "        }\n",
    "    )\n",
    "    \n",
    "\n",
    "    print('... training the model')\n",
    "    # early-stopping parameters\n",
    "    patience = 5000  \n",
    "    patience_increase = 2  \n",
    "                                 \n",
    "    improvement_threshold = 0.995  \n",
    "    validation_frequency = min(n_train_batches, patience / 2)\n",
    "                                  \n",
    "\n",
    "    best_validation_loss = np.inf\n",
    "    test_score = 0.\n",
    "    start_time = timeit.default_timer()\n",
    "\n",
    "    done_looping = False\n",
    "    epoch = 0\n",
    "    while (epoch < n_epochs) and (not done_looping):\n",
    "        epoch = epoch + 1\n",
    "        for minibatch_index in range(n_train_batches):\n",
    "\n",
    "            minibatch_avg_cost = train_model(minibatch_index)\n",
    "            # iteration number\n",
    "            iter = (epoch - 1) * n_train_batches + minibatch_index\n",
    "\n",
    "            if (iter + 1) % validation_frequency == 0:\n",
    "                # compute zero-one loss on validation set\n",
    "                validation_losses = [validate_model(i)\n",
    "                                     for i in range(n_valid_batches)]\n",
    "                this_validation_loss = np.mean(validation_losses)\n",
    "\n",
    "                \"\"\"\n",
    "                print(\n",
    "                    'epoch %i, minibatch %i/%i, validation error %f %%' %\n",
    "                    (\n",
    "                        epoch,\n",
    "                        minibatch_index + 1,\n",
    "                        n_train_batches,\n",
    "                        this_validation_loss * 100.\n",
    "                    )\n",
    "                )\n",
    "                \"\"\"\n",
    "               \n",
    "                if this_validation_loss < best_validation_loss:\n",
    "                    if this_validation_loss < best_validation_loss *  \\\n",
    "                       improvement_threshold:\n",
    "                        patience = max(patience, iter * patience_increase)\n",
    "\n",
    "                    best_validation_loss = this_validation_loss\n",
    "                    # test it on the test set\n",
    "\n",
    "                    test_losses = [test_model(i)\n",
    "                                   for i in range(n_test_batches)]\n",
    "                    test_score = np.mean(test_losses)\n",
    "                    \n",
    "                    print(\n",
    "                        (\n",
    "                            '     epoch %i, minibatch %i/%i, test error of'\n",
    "                            ' best model %f %%'\n",
    "                        ) %\n",
    "                        (\n",
    "                            epoch,\n",
    "                            minibatch_index + 1,\n",
    "                            n_train_batches,\n",
    "                            test_score * 100.\n",
    "                        )\n",
    "                    )\n",
    "                    \n",
    "                    # save the best model\n",
    "                    with open('best_model.pkl', 'wb') as f:\n",
    "                        pickle.dump(classifier, f)\n",
    "\n",
    "            if patience <= iter:\n",
    "                done_looping = True\n",
    "                break\n",
    "\n",
    "    end_time = timeit.default_timer()\n",
    "    print(\n",
    "        (\n",
    "            'Optimization complete with best validation score of %f %%,'\n",
    "            'with test performance %f %%'\n",
    "        )\n",
    "        % (best_validation_loss * 100., test_score * 100.)\n",
    "    )\n",
    "    print ('The code run for %d epochs, with %f epochs/sec' % (\n",
    "        epoch, 1. * epoch / (end_time - start_time)))\n",
    "    \n",
    "    print('The code for file ' + 'mnist.pkl.gz' +\n",
    "                          ' ran for %.1fs' % (end_time - start_time), file=sys.stderr )\n",
    "    \n",
    "    print(classifier.b.get_value())\n",
    "\n"
   ]
  },
  {
   "cell_type": "code",
   "execution_count": 91,
   "metadata": {
    "collapsed": false
   },
   "outputs": [],
   "source": [
    "def predict():\n",
    "    \"\"\"\n",
    "    An example of how to load a trained model and use it\n",
    "    to predict labels.\n",
    "    \"\"\"\n",
    "    \n",
    "    import matplotlib.pyplot as plt\n",
    "    from PIL import Image\n",
    "    %matplotlib inline\n",
    "\n",
    "    # load the saved model\n",
    "    #classifier = cPickle.load(open('best_model.pkl'))\n",
    "    classifier = pickle.load(open('best_model.pkl', 'rb'))\n",
    "    \n",
    "    print('........predicting .......')\n",
    "    print(classifier)\n",
    "\n",
    "    # compile a predictor function\n",
    "    predict_model = function(\n",
    "        inputs=[classifier.input],\n",
    "        outputs=classifier.y_pred)\n",
    "\n",
    "    # We can test it on some examples from test test\n",
    "    dataset='mnist.pkl.gz'\n",
    "    datasets = load_data(dataset)\n",
    "    test_set_x, test_set_y = datasets[2]\n",
    "    test_set_x = test_set_x.get_value()\n",
    "\n",
    "    predicted_values = predict_model(test_set_x[:10])\n",
    "    \n",
    "    f, ax = plt.subplots(2, 5)\n",
    "    i = 0\n",
    "    j = 0\n",
    "    for digit in test_set_x[:10]:  \n",
    "        ax[i][j].imshow(digit.reshape(28,28))\n",
    "        j = j+1\n",
    "        if(j==5):\n",
    "            j = 0\n",
    "            i = i+1\n",
    "    plt.show()\n",
    "    \n",
    "    print (\"Predicted values for the first 10 examples in test set:\")\n",
    "    print(predicted_values)"
   ]
  },
  {
   "cell_type": "code",
   "execution_count": 92,
   "metadata": {
    "collapsed": false
   },
   "outputs": [
    {
     "name": "stdout",
     "output_type": "stream",
     "text": [
      "........predicting .......\n",
      "<__main__.LogisticRegression object at 0x10a8b0c18>\n",
      "....... LOADING DATA.....\n",
      "(50000, 784)\n"
     ]
    },
    {
     "data": {
      "image/png": "[encoded data removed]",
      "text/plain": [
       "<matplotlib.figure.Figure at 0x1099f3a58>"
      ]
     },
     "metadata": {},
     "output_type": "display_data"
    },
    {
     "name": "stdout",
     "output_type": "stream",
     "text": [
      "Predicted values for the first 10 examples in test set:\n",
      "[7 2 1 0 4 1 4 9 6 9]\n"
     ]
    }
   ],
   "source": [
    "if __name__ == '__main__':\n",
    "    #sgd_optimization_mnist()\n",
    "    predict()"
   ]
  }
 ],
 "metadata": {
  "kernelspec": {
   "display_name": "Python 3",
   "language": "python",
   "name": "python3"
  },
  "language_info": {
   "codemirror_mode": {
    "name": "ipython",
    "version": 3
   },
   "file_extension": ".py",
   "mimetype": "text/x-python",
   "name": "python",
   "nbconvert_exporter": "python",
   "pygments_lexer": "ipython3",
   "version": "3.4.3"
  }
 },
 "nbformat": 4,
 "nbformat_minor": 0
}
